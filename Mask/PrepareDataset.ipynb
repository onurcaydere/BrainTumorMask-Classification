{
 "cells": [
  {
   "cell_type": "code",
   "execution_count": null,
   "id": "2ac97210-6023-47af-a581-17f753a5d2e6",
   "metadata": {},
   "outputs": [],
   "source": [
    "import torch\n",
    "import torch.nn as nn\n",
    "import torch.nn.functional as F\n",
    "from torch.utils.data import DataLoader\n",
    "\n",
    "from torchvision import transforms,datasets\n",
    "import torchvision\n",
    "import numpy as np\n",
    "import matplotlib.pyplot as plt\n",
    "import matplotlib.image as mpimg\n",
    "\n",
    "from PIL import Image\n",
    "from tqdm import tqdm\n",
    "import h5py\n",
    "import seaborn as sns\n",
    "import os \n",
    "\n",
    "import torchvision.transforms.functional as TF"
   ]
  },
  {
   "cell_type": "code",
   "execution_count": null,
   "id": "50f1a416-d0d7-4a7f-8304-fb3a6de1f9d9",
   "metadata": {},
   "outputs": [],
   "source": [
    "def get_image_data(filename, path):\n",
    "    \"\"\" Reads the mat image file and returns the image & mask array.\n",
    "    Parameters:\n",
    "        filename(str): Name of the file without the extension.\n",
    "        path(str): Path where the filename is located.\n",
    "    Returns:\n",
    "        data(dict): A dictionary with the image & mask numpy array.\n",
    "                    'image': The numpy array for image.\n",
    "                    'mask' : The numpy array for the above image mask.\n",
    "    \"\"\"\n",
    "    path = os.path.join(path, filename+'.mat')\n",
    "    file = h5py.File(path, 'r')\n",
    "    data = dict()\n",
    "    data['image'] = np.array(file.get('cjdata/image'))\n",
    "    data['mask'] = np.array(file.get('cjdata/tumorMask'))\n",
    "    return data"
   ]
  },
  {
   "cell_type": "code",
   "execution_count": null,
   "id": "be8e00f8-99a0-477a-94ca-ad3382f64a8a",
   "metadata": {},
   "outputs": [],
   "source": [
    "\n",
    "def save_image_data(filename, path, data):\n",
    "    \"\"\" Saves the image & mask array in png format.\n",
    "    Parameters:\n",
    "        filename(str): Name of the file without the extension.\n",
    "        path(str): Path where the filename is to be saved.\n",
    "        data(dict): A dictionary with the image & mask numpy array.\n",
    "                    'image': The numpy array for image.\n",
    "                    'mask' : The numpy array for the above image mask.\n",
    "    Returns: None\n",
    "    \"\"\"\n",
    "    path_image = os.path.join(path, filename+'.png')\n",
    "    path_mask = os.path.join(path, filename+'_mask.png')\n",
    "    mpimg.imsave(path_image, data['image'], cmap='gray', format='png')\n",
    "    mpimg.imsave(path_mask, data['mask'], cmap='gray', format='png')"
   ]
  },
  {
   "cell_type": "code",
   "execution_count": null,
   "id": "93803e6f-9928-459d-9126-0281cf99a0fa",
   "metadata": {},
   "outputs": [],
   "source": [
    "\n",
    "def make_folder(target_folder):\n",
    "    \"\"\"Creates folder if there is no folder in the specified path.\n",
    "    Parameters: \n",
    "        target_folder(str): path of the folder which needs to be created.\n",
    "    Returns: None\n",
    "    \"\"\"\n",
    "    if not (os.path.isdir(target_folder)):\n",
    "        print(f'Creating {target_folder} folder')\n",
    "        os.mkdir(target_folder)"
   ]
  },
  {
   "cell_type": "code",
   "execution_count": null,
   "id": "82b77336-3cdc-41a1-9cac-e9dde45192e2",
   "metadata": {},
   "outputs": [],
   "source": [
    "\n",
    "def main():\n",
    "    # Total number of images\n",
    "    total_images = 3064\n",
    "\n",
    "    # Dataset paths\n",
    "    data_read_path = os.path.join('Data')\n",
    "    data_save_path = os.path.join('dataset', 'png_dataset')\n",
    "\n",
    "\n",
    "    # Make if folder is missing.\n",
    "    make_folder(data_save_path)\n",
    "\n",
    "    print(f'Starting to save images in {data_save_path}')\n",
    "\n",
    "    for filename in tqdm(range(1, total_images+1)):\n",
    "        filename = str(filename)\n",
    "        data = get_image_data(filename, data_read_path)\n",
    "        save_image_data(str(int(filename)-1), data_save_path, data)\n",
    "\n",
    "\n",
    "if __name__ == \"__main__\":\n",
    "    main()"
   ]
  }
 ],
 "metadata": {
  "kernelspec": {
   "display_name": "Python 3 (ipykernel)",
   "language": "python",
   "name": "python3"
  },
  "language_info": {
   "codemirror_mode": {
    "name": "ipython",
    "version": 3
   },
   "file_extension": ".py",
   "mimetype": "text/x-python",
   "name": "python",
   "nbconvert_exporter": "python",
   "pygments_lexer": "ipython3",
   "version": "3.8.12"
  }
 },
 "nbformat": 4,
 "nbformat_minor": 5
}
