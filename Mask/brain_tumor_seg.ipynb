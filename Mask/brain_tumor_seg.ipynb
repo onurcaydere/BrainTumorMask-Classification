{
 "cells": [
  {
   "cell_type": "code",
   "execution_count": 1,
   "id": "27bc2af8-f442-4597-ac23-28b36bcd21a1",
   "metadata": {},
   "outputs": [
    {
     "name": "stderr",
     "output_type": "stream",
     "text": [
      "C:\\ProgramData\\Anaconda3\\envs\\Data_Science\\lib\\site-packages\\torchvision\\io\\image.py:11: UserWarning: Failed to load image Python extension: Could not find module 'C:\\ProgramData\\Anaconda3\\envs\\Data_Science\\Lib\\site-packages\\torchvision\\image.pyd' (or one of its dependencies). Try using the full path with constructor syntax.\n",
      "  warn(f\"Failed to load image Python extension: {e}\")\n"
     ]
    }
   ],
   "source": [
    "import torch\n",
    "import torch.nn as nn\n",
    "import torch.nn.functional as F\n",
    "from torch.utils.data import DataLoader,Dataset\n",
    "\n",
    "from torchvision import transforms,datasets\n",
    "import torchvision\n",
    "import numpy as np\n",
    "import torchvision.transforms.functional as TF\n",
    "\n",
    "import matplotlib.pyplot as plt\n",
    "import matplotlib.image as mpimg\n",
    "\n",
    "from PIL import Image\n",
    "from tqdm import tqdm\n",
    "import h5py\n",
    "import seaborn as sns\n",
    "import os \n",
    "import pickle\n",
    "\n",
    "import lossclass.loss as loss\n",
    "os.environ['KMP_DUPLICATE_LIB_OK']='True'"
   ]
  },
  {
   "cell_type": "code",
   "execution_count": 2,
   "id": "47613f3f-6bb7-4180-a34b-58a3f569e335",
   "metadata": {},
   "outputs": [
    {
     "data": {
      "text/plain": [
       "True"
      ]
     },
     "execution_count": 2,
     "metadata": {},
     "output_type": "execute_result"
    }
   ],
   "source": [
    "torch.cuda.is_available()"
   ]
  },
  {
   "cell_type": "code",
   "execution_count": 3,
   "id": "82668959-37b9-4cbb-881f-f0169e2e4938",
   "metadata": {},
   "outputs": [
    {
     "data": {
      "text/plain": [
       "0"
      ]
     },
     "execution_count": 3,
     "metadata": {},
     "output_type": "execute_result"
    }
   ],
   "source": [
    "torch.cuda.current_device()"
   ]
  },
  {
   "cell_type": "code",
   "execution_count": 4,
   "id": "c957d389-cae4-4a81-a0d1-e67ab08ebc31",
   "metadata": {},
   "outputs": [
    {
     "data": {
      "text/plain": [
       "_CudaDeviceProperties(name='NVIDIA GeForce GTX 1050', major=6, minor=1, total_memory=4095MB, multi_processor_count=5)"
      ]
     },
     "execution_count": 4,
     "metadata": {},
     "output_type": "execute_result"
    }
   ],
   "source": [
    "torch.cuda.get_device_properties(0)"
   ]
  },
  {
   "cell_type": "code",
   "execution_count": 5,
   "id": "78751cfc-0765-46a6-9884-c082d39dcd33",
   "metadata": {},
   "outputs": [
    {
     "data": {
      "text/plain": [
       "0"
      ]
     },
     "execution_count": 5,
     "metadata": {},
     "output_type": "execute_result"
    }
   ],
   "source": [
    "torch.cuda.memory_allocated(0)"
   ]
  },
  {
   "cell_type": "markdown",
   "id": "6f42889a-9c6e-496b-8948-d99249668251",
   "metadata": {},
   "source": [
    "## Prepare Data"
   ]
  },
  {
   "cell_type": "code",
   "execution_count": 6,
   "id": "ac69eb7f-bed3-4e63-9213-2b27012901c6",
   "metadata": {},
   "outputs": [],
   "source": [
    "class TumorDataset(Dataset):\n",
    "    def __init__(self, root_dir, transform=True, DEBUG=False):\n",
    "\n",
    "        self.root_dir = root_dir\n",
    "        self.default_transformation = transforms.Compose([\n",
    "            transforms.Grayscale(),\n",
    "            transforms.Resize((512, 512))\n",
    "        ])\n",
    "        self.DEBUG = DEBUG\n",
    "\n",
    "    def __getitem__(self, index):\n",
    "        image_name = os.path.join(self.root_dir, str(index)+'.png')\n",
    "        mask_name = os.path.join(self.root_dir, str(index)+'_mask.png')\n",
    "\n",
    "        image = Image.open(image_name)\n",
    "        mask = Image.open(mask_name)\n",
    "\n",
    "        image = self.default_transformation(image)\n",
    "        mask = self.default_transformation(mask)\n",
    "\n",
    "        image = TF.to_tensor(image)\n",
    "        mask = TF.to_tensor(mask)\n",
    "\n",
    "        sample = {'index': int(index), 'image': image, 'mask': mask}\n",
    "        return sample\n",
    "\n",
    "    def __len__(self):\n",
    "        error_msg = 'Part of dataset is missing!\\nNumber of tumor and mask images are not same.'\n",
    "        total_files = len(os.listdir(self.root_dir))\n",
    "\n",
    "        assert (total_files % 2 == 0), error_msg\n",
    "        return total_files//2"
   ]
  },
  {
   "cell_type": "code",
   "execution_count": 7,
   "id": "43993184-7371-4d77-8816-b0df312a2cca",
   "metadata": {},
   "outputs": [],
   "source": [
    "DATASET_USED = 'png_dataset'\n"
   ]
  },
  {
   "cell_type": "code",
   "execution_count": 71,
   "id": "a7cb7e57-4a14-4ba4-93c8-44890f43380a",
   "metadata": {},
   "outputs": [],
   "source": [
    "def get_indices(length, new=False):\n",
    "    file_path = os.path.join('dataset',f'split_indices_{DATASET_USED}.p')\n",
    "    data = dict()\n",
    "\n",
    "    # File not found or fresh copy is required.\n",
    "    indices = list(range(length))\n",
    "    np.random.shuffle(indices)\n",
    "    split = int(np.floor(0.2 * len(tumor_dataset)))\n",
    "    train_indices , test_indices = indices[split:], indices[:split]\n",
    "    # Indices are saved with pickle.\n",
    "    data['train_indices'] = train_indices\n",
    "    data['test_indices'] = test_indices\n",
    "    return train_indices, test_indices"
   ]
  },
  {
   "cell_type": "code",
   "execution_count": 72,
   "id": "4aa6a050-4fee-4306-986a-c5502f99b362",
   "metadata": {},
   "outputs": [],
   "source": [
    "tumor_dataset = TumorDataset(\"dataset/png_dataset\")"
   ]
  },
  {
   "cell_type": "code",
   "execution_count": 74,
   "id": "2fbf6fcc-e2b7-4f7b-a74e-23c7e78c0f8f",
   "metadata": {},
   "outputs": [
    {
     "name": "stdout",
     "output_type": "stream",
     "text": [
      "2452\n",
      "612\n"
     ]
    }
   ],
   "source": [
    "train_indices, test_indices = get_indices(len(tumor_dataset))\n",
    "print(len(train_indices))\n",
    "print(len(test_indices))"
   ]
  },
  {
   "cell_type": "code",
   "execution_count": 11,
   "id": "8697e863-8f63-415f-bcee-933ea50cf074",
   "metadata": {},
   "outputs": [],
   "source": [
    "from torch.utils.data import SubsetRandomSampler"
   ]
  },
  {
   "cell_type": "code",
   "execution_count": 12,
   "id": "65c4a412-adc8-40eb-899d-534eee524436",
   "metadata": {},
   "outputs": [],
   "source": [
    "train_sampler, test_sampler = SubsetRandomSampler(train_indices), SubsetRandomSampler(test_indices)"
   ]
  },
  {
   "cell_type": "code",
   "execution_count": 13,
   "id": "ab4c7d0e-fb26-4924-9b67-1e1069ae7701",
   "metadata": {},
   "outputs": [],
   "source": [
    "trainloader = torch.utils.data.DataLoader(tumor_dataset, 6, sampler=train_sampler)\n",
    "testloader = torch.utils.data.DataLoader(tumor_dataset, 1, sampler=test_sampler)"
   ]
  },
  {
   "cell_type": "code",
   "execution_count": 14,
   "id": "3fa93d9e-e96d-4fa5-9b63-6d09003dd910",
   "metadata": {},
   "outputs": [
    {
     "data": {
      "text/plain": [
       "torch.Size([1, 512, 512])"
      ]
     },
     "execution_count": 14,
     "metadata": {},
     "output_type": "execute_result"
    }
   ],
   "source": [
    "for x,data in enumerate(trainloader):\n",
    "    break\n",
    "data[\"image\"][0].shape\n"
   ]
  },
  {
   "cell_type": "code",
   "execution_count": 15,
   "id": "65c5008f-3055-4e3d-b2f0-cf0dd7ef86a0",
   "metadata": {},
   "outputs": [],
   "source": [
    "# Create Model"
   ]
  },
  {
   "cell_type": "code",
   "execution_count": 16,
   "id": "cf4068d2-587a-464b-92cd-4ec0ff4a623d",
   "metadata": {},
   "outputs": [],
   "source": [
    "class UNet(nn.Module):\n",
    "    def __init__(self,filters,input_size=1,out_size=1):\n",
    "        super().__init__()\n",
    "        #filters=[16,32,64,128,256]\n",
    "        #Down Block1\n",
    "        self.conv1_1=nn.Conv2d(input_size,filters[0],kernel_size=3,padding=1)\n",
    "        self.conv1_2=nn.Conv2d(filters[0],filters[0],kernel_size=3,padding=1)\n",
    "        self.pool1=nn.MaxPool2d(2)\n",
    "        #Block2\n",
    "        self.conv2_1=nn.Conv2d(filters[0],filters[1],kernel_size=3,padding=1)\n",
    "        self.conv2_2=nn.Conv2d(filters[1],filters[1],kernel_size=3,padding=1)\n",
    "        self.pool2=nn.MaxPool2d(2)\n",
    "        #Block 3 \n",
    "        self.conv3_1=nn.Conv2d(filters[1],filters[2],kernel_size=3,padding=1)\n",
    "        self.conv3_2=nn.Conv2d(filters[2],filters[2],kernel_size=3,padding=1)\n",
    "        self.pool3=nn.MaxPool2d(2)     \n",
    "        # Block 4\n",
    "        self.conv4_1=nn.Conv2d(filters[2],filters[3],kernel_size=3,padding=1)\n",
    "        self.conv4_2=nn.Conv2d(filters[3],filters[3],kernel_size=3,padding=1)\n",
    "        self.pool4=nn.MaxPool2d(2)  \n",
    "        \n",
    "        # Bottleneck\n",
    "        self.conv5_1=nn.Conv2d(filters[3],filters[4],kernel_size=3,padding=1)\n",
    "        self.conv5_2=nn.Conv2d(filters[4],filters[4],kernel_size=3,padding=1)\n",
    "        self.conv5_t=nn.ConvTranspose2d(filters[4],filters[3],kernel_size=2,stride=2)\n",
    "        #Up Bloks [1]\n",
    "        self.conv6_1=nn.Conv2d(filters[4],filters[3],kernel_size=3,padding=1)\n",
    "        self.conv6_2=nn.Conv2d(filters[3],filters[3],kernel_size=3,padding=1)\n",
    "        self.conv6_t=nn.ConvTranspose2d(filters[3],filters[2],kernel_size=2,stride=2)\n",
    "        \n",
    "        #Block [2]\n",
    "        self.conv7_1=nn.Conv2d(filters[3],filters[2],kernel_size=3,padding=1)\n",
    "        self.conv7_2=nn.Conv2d(filters[2],filters[2],kernel_size=3,padding=1)\n",
    "        self.conv7_t=nn.ConvTranspose2d(filters[2],filters[1],kernel_size=2,stride=2)\n",
    "        #Block [3]\n",
    "        self.conv8_1=nn.Conv2d(filters[2],filters[1],kernel_size=3,padding=1)\n",
    "        self.conv8_2=nn.Conv2d(filters[1],filters[1],kernel_size=3,padding=1)\n",
    "        self.conv8_t=nn.ConvTranspose2d(filters[1],filters[0],kernel_size=2,stride=2)\n",
    "        \n",
    "        #Block [4]\n",
    "        self.conv9_1=nn.Conv2d(filters[1],filters[0],kernel_size=3,padding=1)\n",
    "        self.conv9_2=nn.Conv2d(filters[0],filters[0],kernel_size=3,padding=1)\n",
    "        \n",
    "        #Output \n",
    "        \n",
    "        self.conv10=nn.Conv2d(filters[0],out_size,kernel_size=3,padding=1)\n",
    "        \n",
    "        \n",
    "    def forward(self,x):\n",
    "        #Down\n",
    "        conv1=F.relu(self.conv1_1(x))\n",
    "        conv1=F.relu(self.conv1_2(conv1))\n",
    "        pool1=self.pool1(conv1)\n",
    "        \n",
    "        conv2=F.relu(self.conv2_1(pool1))\n",
    "        conv2=F.relu(self.conv2_2(conv2))\n",
    "        pool2=self.pool2(conv2)\n",
    "        \n",
    "        conv3=F.relu(self.conv3_1(pool2))\n",
    "        conv3=F.relu(self.conv3_2(conv3))\n",
    "        pool3=self.pool3(conv3)\n",
    "        \n",
    "        conv4=F.relu(self.conv4_1(pool3))\n",
    "        conv4=F.relu(self.conv4_2(conv4))\n",
    "        pool4=self.pool4(conv4)\n",
    "        \n",
    "        #Bottleneck\n",
    "        \n",
    "        conv5=F.relu(self.conv5_1(pool4))\n",
    "        conv5=F.relu(self.conv5_2(conv5))\n",
    "        \n",
    "        #Up\n",
    "        up6=torch.cat((self.conv5_t(conv5),conv4),dim=1)\n",
    "        conv6=F.relu(self.conv6_1(up6))\n",
    "        conv6=F.relu(self.conv6_2(conv6))\n",
    "        \n",
    "        up7=torch.cat((self.conv6_t(conv6),conv3),dim=1)\n",
    "        conv7=F.relu(self.conv7_1(up7))\n",
    "        conv7=F.relu(self.conv7_2(conv7))\n",
    "\n",
    "        up8=torch.cat((self.conv7_t(conv7),conv2),dim=1)\n",
    "        conv8=F.relu(self.conv8_1(up8))\n",
    "        conv8=F.relu(self.conv8_2(conv8))\n",
    "        \n",
    "        \n",
    "        up9=torch.cat((self.conv8_t(conv8),conv1),dim=1)\n",
    "        conv9=F.relu(self.conv9_1(up9))\n",
    "        conv9=F.relu(self.conv9_2(conv9))\n",
    "        \n",
    "        out=F.sigmoid(self.conv10(conv9))\n",
    "        \n",
    "        \n",
    "        \n",
    "        \n",
    "        return out\n",
    "        \n",
    "        \n",
    "        \n",
    "    "
   ]
  },
  {
   "cell_type": "code",
   "execution_count": 17,
   "id": "6ce5dc16-19c0-4f65-b28d-590efc6026d8",
   "metadata": {
    "tags": []
   },
   "outputs": [
    {
     "data": {
      "text/plain": [
       "UNet(\n",
       "  (conv1_1): Conv2d(1, 16, kernel_size=(3, 3), stride=(1, 1), padding=(1, 1))\n",
       "  (conv1_2): Conv2d(16, 16, kernel_size=(3, 3), stride=(1, 1), padding=(1, 1))\n",
       "  (pool1): MaxPool2d(kernel_size=2, stride=2, padding=0, dilation=1, ceil_mode=False)\n",
       "  (conv2_1): Conv2d(16, 32, kernel_size=(3, 3), stride=(1, 1), padding=(1, 1))\n",
       "  (conv2_2): Conv2d(32, 32, kernel_size=(3, 3), stride=(1, 1), padding=(1, 1))\n",
       "  (pool2): MaxPool2d(kernel_size=2, stride=2, padding=0, dilation=1, ceil_mode=False)\n",
       "  (conv3_1): Conv2d(32, 64, kernel_size=(3, 3), stride=(1, 1), padding=(1, 1))\n",
       "  (conv3_2): Conv2d(64, 64, kernel_size=(3, 3), stride=(1, 1), padding=(1, 1))\n",
       "  (pool3): MaxPool2d(kernel_size=2, stride=2, padding=0, dilation=1, ceil_mode=False)\n",
       "  (conv4_1): Conv2d(64, 128, kernel_size=(3, 3), stride=(1, 1), padding=(1, 1))\n",
       "  (conv4_2): Conv2d(128, 128, kernel_size=(3, 3), stride=(1, 1), padding=(1, 1))\n",
       "  (pool4): MaxPool2d(kernel_size=2, stride=2, padding=0, dilation=1, ceil_mode=False)\n",
       "  (conv5_1): Conv2d(128, 256, kernel_size=(3, 3), stride=(1, 1), padding=(1, 1))\n",
       "  (conv5_2): Conv2d(256, 256, kernel_size=(3, 3), stride=(1, 1), padding=(1, 1))\n",
       "  (conv5_t): ConvTranspose2d(256, 128, kernel_size=(2, 2), stride=(2, 2))\n",
       "  (conv6_1): Conv2d(256, 128, kernel_size=(3, 3), stride=(1, 1), padding=(1, 1))\n",
       "  (conv6_2): Conv2d(128, 128, kernel_size=(3, 3), stride=(1, 1), padding=(1, 1))\n",
       "  (conv6_t): ConvTranspose2d(128, 64, kernel_size=(2, 2), stride=(2, 2))\n",
       "  (conv7_1): Conv2d(128, 64, kernel_size=(3, 3), stride=(1, 1), padding=(1, 1))\n",
       "  (conv7_2): Conv2d(64, 64, kernel_size=(3, 3), stride=(1, 1), padding=(1, 1))\n",
       "  (conv7_t): ConvTranspose2d(64, 32, kernel_size=(2, 2), stride=(2, 2))\n",
       "  (conv8_1): Conv2d(64, 32, kernel_size=(3, 3), stride=(1, 1), padding=(1, 1))\n",
       "  (conv8_2): Conv2d(32, 32, kernel_size=(3, 3), stride=(1, 1), padding=(1, 1))\n",
       "  (conv8_t): ConvTranspose2d(32, 16, kernel_size=(2, 2), stride=(2, 2))\n",
       "  (conv9_1): Conv2d(32, 16, kernel_size=(3, 3), stride=(1, 1), padding=(1, 1))\n",
       "  (conv9_2): Conv2d(16, 16, kernel_size=(3, 3), stride=(1, 1), padding=(1, 1))\n",
       "  (conv10): Conv2d(16, 1, kernel_size=(3, 3), stride=(1, 1), padding=(1, 1))\n",
       ")"
      ]
     },
     "execution_count": 17,
     "metadata": {},
     "output_type": "execute_result"
    }
   ],
   "source": [
    "model=UNet(filters=[16,32,64,128,256]).cuda()\n",
    "model"
   ]
  },
  {
   "cell_type": "code",
   "execution_count": 18,
   "id": "122c45c3-70b7-4cd0-8216-b37ae68f4684",
   "metadata": {},
   "outputs": [
    {
     "data": {
      "text/plain": [
       "7770624"
      ]
     },
     "execution_count": 18,
     "metadata": {},
     "output_type": "execute_result"
    }
   ],
   "source": [
    "torch.cuda.memory_allocated(0)"
   ]
  },
  {
   "cell_type": "code",
   "execution_count": 19,
   "id": "4c8abeac-e0bb-413a-b92a-0b9f639dbc8d",
   "metadata": {},
   "outputs": [
    {
     "data": {
      "text/plain": [
       "7770624"
      ]
     },
     "execution_count": 19,
     "metadata": {},
     "output_type": "execute_result"
    }
   ],
   "source": [
    "torch.cuda.max_memory_allocated(0)"
   ]
  },
  {
   "attachments": {
    "28c9dfa8-268b-47fe-98fb-71b84452d0f8.png": {
     "image/png": "[encoded data removed]"
    }
   },
   "cell_type": "markdown",
   "id": "e9b3cf96-fafe-4e18-8897-49fadf9e425f",
   "metadata": {},
   "source": [
    "![image.png](attachment:28c9dfa8-268b-47fe-98fb-71b84452d0f8.png)"
   ]
  },
  {
   "cell_type": "code",
   "execution_count": 20,
   "id": "183c25e1-ebf3-48f3-aa69-68e00eb019de",
   "metadata": {},
   "outputs": [],
   "source": [
    "criterion=loss.BCEDiceLoss()\n",
    "optimizer=torch.optim.Adam(model.parameters(),lr=0.001)\n",
    "epochs=40\n",
    "epoch_loss=[]\n",
    "test_losses=[]"
   ]
  },
  {
   "cell_type": "code",
   "execution_count": 21,
   "id": "1e99548e-98cb-4c18-b91f-7a5f103e772c",
   "metadata": {},
   "outputs": [
    {
     "name": "stdout",
     "output_type": "stream",
     "text": [
      "|===========================================================================|\n",
      "|                  PyTorch CUDA memory summary, device ID 0                 |\n",
      "|---------------------------------------------------------------------------|\n",
      "|            CUDA OOMs: 0            |        cudaMalloc retries: 0         |\n",
      "|===========================================================================|\n",
      "|        Metric         | Cur Usage  | Peak Usage | Tot Alloc  | Tot Freed  |\n",
      "|---------------------------------------------------------------------------|\n",
      "| Allocated memory      |    7588 KB |    7588 KB |    7588 KB |       0 B  |\n",
      "|       from large pool |    4608 KB |    4608 KB |    4608 KB |       0 B  |\n",
      "|       from small pool |    2980 KB |    2980 KB |    2980 KB |       0 B  |\n",
      "|---------------------------------------------------------------------------|\n",
      "| Active memory         |    7588 KB |    7588 KB |    7588 KB |       0 B  |\n",
      "|       from large pool |    4608 KB |    4608 KB |    4608 KB |       0 B  |\n",
      "|       from small pool |    2980 KB |    2980 KB |    2980 KB |       0 B  |\n",
      "|---------------------------------------------------------------------------|\n",
      "| GPU reserved memory   |   24576 KB |   24576 KB |   24576 KB |       0 B  |\n",
      "|       from large pool |   20480 KB |   20480 KB |   20480 KB |       0 B  |\n",
      "|       from small pool |    4096 KB |    4096 KB |    4096 KB |       0 B  |\n",
      "|---------------------------------------------------------------------------|\n",
      "| Non-releasable memory |   16987 KB |   20228 KB |   22847 KB |    5859 KB |\n",
      "|       from large pool |   15872 KB |   19328 KB |   19328 KB |    3456 KB |\n",
      "|       from small pool |    1115 KB |    2047 KB |    3519 KB |    2403 KB |\n",
      "|---------------------------------------------------------------------------|\n",
      "| Allocations           |      46    |      46    |      46    |       0    |\n",
      "|       from large pool |       3    |       3    |       3    |       0    |\n",
      "|       from small pool |      43    |      43    |      43    |       0    |\n",
      "|---------------------------------------------------------------------------|\n",
      "| Active allocs         |      46    |      46    |      46    |       0    |\n",
      "|       from large pool |       3    |       3    |       3    |       0    |\n",
      "|       from small pool |      43    |      43    |      43    |       0    |\n",
      "|---------------------------------------------------------------------------|\n",
      "| GPU reserved segments |       3    |       3    |       3    |       0    |\n",
      "|       from large pool |       1    |       1    |       1    |       0    |\n",
      "|       from small pool |       2    |       2    |       2    |       0    |\n",
      "|---------------------------------------------------------------------------|\n",
      "| Non-releasable allocs |       3    |       3    |       3    |       0    |\n",
      "|       from large pool |       1    |       1    |       1    |       0    |\n",
      "|       from small pool |       2    |       2    |       2    |       0    |\n",
      "|---------------------------------------------------------------------------|\n",
      "| Oversize allocations  |       0    |       0    |       0    |       0    |\n",
      "|---------------------------------------------------------------------------|\n",
      "| Oversize GPU segments |       0    |       0    |       0    |       0    |\n",
      "|===========================================================================|\n",
      "\n"
     ]
    }
   ],
   "source": [
    "print(torch.cuda.memory_summary())"
   ]
  },
  {
   "cell_type": "code",
   "execution_count": 22,
   "id": "1439066c-d760-4d27-9c4c-7e02646c11f3",
   "metadata": {
    "collapsed": true,
    "jupyter": {
     "outputs_hidden": true
    },
    "tags": []
   },
   "outputs": [
    {
     "name": "stderr",
     "output_type": "stream",
     "text": [
      "C:\\ProgramData\\Anaconda3\\envs\\Data_Science\\lib\\site-packages\\torch\\nn\\functional.py:1806: UserWarning: nn.functional.sigmoid is deprecated. Use torch.sigmoid instead.\n",
      "  warnings.warn(\"nn.functional.sigmoid is deprecated. Use torch.sigmoid instead.\")\n"
     ]
    },
    {
     "name": "stdout",
     "output_type": "stream",
     "text": [
      "Epoch 0 Batch 0 Loss 1.6777126789093018\n",
      "Epoch 0 Batch 400 Loss 0.9404540061950684\n",
      "Epoch 1 Batch 0 Loss 0.9588520526885986\n",
      "Epoch 1 Batch 400 Loss 0.6447611451148987\n",
      "Epoch 2 Batch 0 Loss 0.7294578552246094\n",
      "Epoch 2 Batch 400 Loss 0.6555832624435425\n",
      "Epoch 3 Batch 0 Loss 0.502528727054596\n",
      "Epoch 3 Batch 400 Loss 0.7899094820022583\n",
      "Epoch 4 Batch 0 Loss 0.7991757988929749\n",
      "Epoch 4 Batch 400 Loss 0.3772859275341034\n",
      "Epoch 5 Batch 0 Loss 0.4838273823261261\n",
      "Epoch 5 Batch 400 Loss 0.33411309123039246\n",
      "Epoch 6 Batch 0 Loss 0.5334155559539795\n",
      "Epoch 6 Batch 400 Loss 0.5027477741241455\n",
      "Epoch 7 Batch 0 Loss 0.3103272318840027\n",
      "Epoch 7 Batch 400 Loss 0.544492244720459\n",
      "Epoch 8 Batch 0 Loss 0.45857948064804077\n",
      "Epoch 8 Batch 400 Loss 0.3468672037124634\n",
      "Epoch 9 Batch 0 Loss 0.4564239978790283\n",
      "Epoch 9 Batch 400 Loss 0.4296496510505676\n",
      "Epoch 10 Batch 0 Loss 0.7734897136688232\n",
      "Epoch 10 Batch 400 Loss 0.16689561307430267\n",
      "Epoch 11 Batch 0 Loss 0.2992420792579651\n",
      "Epoch 11 Batch 400 Loss 0.2831736207008362\n",
      "Epoch 12 Batch 0 Loss 0.4058239459991455\n",
      "Epoch 12 Batch 400 Loss 0.2041207253932953\n",
      "Epoch 13 Batch 0 Loss 0.27564898133277893\n",
      "Epoch 13 Batch 400 Loss 0.2251284420490265\n",
      "Epoch 14 Batch 0 Loss 0.42539650201797485\n",
      "Epoch 14 Batch 400 Loss 0.1889672875404358\n",
      "Epoch 15 Batch 0 Loss 0.46173638105392456\n",
      "Epoch 15 Batch 400 Loss 0.30603888630867004\n",
      "Epoch 16 Batch 0 Loss 0.13438737392425537\n",
      "Epoch 16 Batch 400 Loss 0.17221467196941376\n",
      "Epoch 17 Batch 0 Loss 0.21737152338027954\n",
      "Epoch 17 Batch 400 Loss 0.3033497929573059\n",
      "Epoch 18 Batch 0 Loss 0.4212074875831604\n",
      "Epoch 18 Batch 400 Loss 0.2943156361579895\n",
      "Epoch 19 Batch 0 Loss 0.1913999617099762\n",
      "Epoch 19 Batch 400 Loss 0.31469911336898804\n",
      "Epoch 20 Batch 0 Loss 0.4062391519546509\n",
      "Epoch 20 Batch 400 Loss 0.6076406836509705\n",
      "Epoch 21 Batch 0 Loss 0.1451784074306488\n",
      "Epoch 21 Batch 400 Loss 0.3212193250656128\n",
      "Epoch 22 Batch 0 Loss 0.2652775049209595\n",
      "Epoch 22 Batch 400 Loss 0.3168005347251892\n",
      "Epoch 23 Batch 0 Loss 0.20318228006362915\n",
      "Epoch 23 Batch 400 Loss 0.14063061773777008\n",
      "Epoch 24 Batch 0 Loss 0.330094575881958\n",
      "Epoch 24 Batch 400 Loss 0.2448553740978241\n",
      "Epoch 25 Batch 0 Loss 0.1638822853565216\n",
      "Epoch 25 Batch 400 Loss 0.4610632658004761\n",
      "Epoch 26 Batch 0 Loss 0.09009169042110443\n",
      "Epoch 26 Batch 400 Loss 0.17356526851654053\n",
      "Epoch 27 Batch 0 Loss 0.20971223711967468\n",
      "Epoch 27 Batch 400 Loss 0.11617758125066757\n",
      "Epoch 28 Batch 0 Loss 0.2718213200569153\n",
      "Epoch 28 Batch 400 Loss 0.09874068200588226\n",
      "Epoch 29 Batch 0 Loss 0.21443942189216614\n",
      "Epoch 29 Batch 400 Loss 0.12444800138473511\n",
      "Epoch 30 Batch 0 Loss 0.16368944942951202\n",
      "Epoch 30 Batch 400 Loss 0.13124388456344604\n",
      "Epoch 31 Batch 0 Loss 0.1163821667432785\n",
      "Epoch 31 Batch 400 Loss 0.3463709354400635\n",
      "Epoch 32 Batch 0 Loss 0.13792961835861206\n",
      "Epoch 32 Batch 400 Loss 0.3479149043560028\n",
      "Epoch 33 Batch 0 Loss 0.2781033515930176\n",
      "Epoch 33 Batch 400 Loss 0.10553822666406631\n",
      "Epoch 34 Batch 0 Loss 0.09414839744567871\n",
      "Epoch 34 Batch 400 Loss 0.2016199827194214\n",
      "Epoch 35 Batch 0 Loss 0.11473343521356583\n",
      "Epoch 35 Batch 400 Loss 0.1741313636302948\n",
      "Epoch 36 Batch 0 Loss 0.15623372793197632\n",
      "Epoch 36 Batch 400 Loss 0.12543237209320068\n",
      "Epoch 37 Batch 0 Loss 0.18765197694301605\n",
      "Epoch 37 Batch 400 Loss 0.10970461368560791\n",
      "Epoch 38 Batch 0 Loss 0.08824480324983597\n",
      "Epoch 38 Batch 400 Loss 0.3638845682144165\n",
      "Epoch 39 Batch 0 Loss 0.15145933628082275\n",
      "Epoch 39 Batch 400 Loss 0.07040978223085403\n"
     ]
    }
   ],
   "source": [
    "for epoch in range(epochs):\n",
    "    for i,(data) in enumerate(trainloader):\n",
    "        x=data[\"image\"].cuda()\n",
    "        y=data[\"mask\"].cuda()\n",
    "        optimizer.zero_grad()\n",
    "        \n",
    "        out=model(x)\n",
    "        \n",
    "        loss=criterion(out,y)\n",
    "        \n",
    "        loss.backward()\n",
    "        optimizer.step()\n",
    "        \n",
    "        if i%400==0:\n",
    "            print(\"Epoch {} Batch {} Loss {}\".format(epoch,i,loss.item()))\n",
    "    epoch_loss.append(loss.item())\n",
    "    if (loss.item()<=0.75):\n",
    "        torch.save(model.state_dict(),\"my_model.pt\")\n",
    "    with torch.no_grad():\n",
    "        for batch,(data) in enumerate(testloader):\n",
    "            image=data[\"image\"].cuda()\n",
    "            mask=data[\"mask\"].cuda()\n",
    "            \n",
    "            pred=model(image)\n",
    "            \n",
    "        loss=criterion(pred,mask)\n",
    "        test_losses.append(loss.item())  \n",
    "        \n",
    "            "
   ]
  },
  {
   "cell_type": "code",
   "execution_count": 24,
   "id": "f7c23b7d-3ebe-44fc-b008-7ba54159a7ce",
   "metadata": {},
   "outputs": [
    {
     "data": {
      "text/plain": [
       "<matplotlib.legend.Legend at 0x2924459a6a0>"
      ]
     },
     "execution_count": 24,
     "metadata": {},
     "output_type": "execute_result"
    },
    {
     "data": {
      "image/png": "[encoded data removed]",
      "text/plain": [
       "<Figure size 432x288 with 1 Axes>"
      ]
     },
     "metadata": {
      "needs_background": "light"
     },
     "output_type": "display_data"
    }
   ],
   "source": [
    "plt.plot(epoch_loss,label=\"Train Loss\")\n",
    "plt.legend()"
   ]
  },
  {
   "cell_type": "code",
   "execution_count": 25,
   "id": "e7008c3a-4643-4b76-ae60-51aaeed8f7e2",
   "metadata": {},
   "outputs": [],
   "source": [
    "pre_trained_model=UNet(filters=[16,32,64,128,256])"
   ]
  },
  {
   "cell_type": "code",
   "execution_count": 26,
   "id": "ac0e88da-bbe3-4c75-a28e-b78bb69231ca",
   "metadata": {},
   "outputs": [
    {
     "data": {
      "text/plain": [
       "<All keys matched successfully>"
      ]
     },
     "execution_count": 26,
     "metadata": {},
     "output_type": "execute_result"
    }
   ],
   "source": [
    "pre_trained_model.load_state_dict(torch.load(\"my_model.pt\"))"
   ]
  },
  {
   "cell_type": "code",
   "execution_count": 27,
   "id": "4ee2c402-a399-4226-8364-eeb9dcd3fac6",
   "metadata": {
    "collapsed": true,
    "jupyter": {
     "outputs_hidden": true
    },
    "tags": []
   },
   "outputs": [
    {
     "data": {
      "text/plain": [
       "UNet(\n",
       "  (conv1_1): Conv2d(1, 16, kernel_size=(3, 3), stride=(1, 1), padding=(1, 1))\n",
       "  (conv1_2): Conv2d(16, 16, kernel_size=(3, 3), stride=(1, 1), padding=(1, 1))\n",
       "  (pool1): MaxPool2d(kernel_size=2, stride=2, padding=0, dilation=1, ceil_mode=False)\n",
       "  (conv2_1): Conv2d(16, 32, kernel_size=(3, 3), stride=(1, 1), padding=(1, 1))\n",
       "  (conv2_2): Conv2d(32, 32, kernel_size=(3, 3), stride=(1, 1), padding=(1, 1))\n",
       "  (pool2): MaxPool2d(kernel_size=2, stride=2, padding=0, dilation=1, ceil_mode=False)\n",
       "  (conv3_1): Conv2d(32, 64, kernel_size=(3, 3), stride=(1, 1), padding=(1, 1))\n",
       "  (conv3_2): Conv2d(64, 64, kernel_size=(3, 3), stride=(1, 1), padding=(1, 1))\n",
       "  (pool3): MaxPool2d(kernel_size=2, stride=2, padding=0, dilation=1, ceil_mode=False)\n",
       "  (conv4_1): Conv2d(64, 128, kernel_size=(3, 3), stride=(1, 1), padding=(1, 1))\n",
       "  (conv4_2): Conv2d(128, 128, kernel_size=(3, 3), stride=(1, 1), padding=(1, 1))\n",
       "  (pool4): MaxPool2d(kernel_size=2, stride=2, padding=0, dilation=1, ceil_mode=False)\n",
       "  (conv5_1): Conv2d(128, 256, kernel_size=(3, 3), stride=(1, 1), padding=(1, 1))\n",
       "  (conv5_2): Conv2d(256, 256, kernel_size=(3, 3), stride=(1, 1), padding=(1, 1))\n",
       "  (conv5_t): ConvTranspose2d(256, 128, kernel_size=(2, 2), stride=(2, 2))\n",
       "  (conv6_1): Conv2d(256, 128, kernel_size=(3, 3), stride=(1, 1), padding=(1, 1))\n",
       "  (conv6_2): Conv2d(128, 128, kernel_size=(3, 3), stride=(1, 1), padding=(1, 1))\n",
       "  (conv6_t): ConvTranspose2d(128, 64, kernel_size=(2, 2), stride=(2, 2))\n",
       "  (conv7_1): Conv2d(128, 64, kernel_size=(3, 3), stride=(1, 1), padding=(1, 1))\n",
       "  (conv7_2): Conv2d(64, 64, kernel_size=(3, 3), stride=(1, 1), padding=(1, 1))\n",
       "  (conv7_t): ConvTranspose2d(64, 32, kernel_size=(2, 2), stride=(2, 2))\n",
       "  (conv8_1): Conv2d(64, 32, kernel_size=(3, 3), stride=(1, 1), padding=(1, 1))\n",
       "  (conv8_2): Conv2d(32, 32, kernel_size=(3, 3), stride=(1, 1), padding=(1, 1))\n",
       "  (conv8_t): ConvTranspose2d(32, 16, kernel_size=(2, 2), stride=(2, 2))\n",
       "  (conv9_1): Conv2d(32, 16, kernel_size=(3, 3), stride=(1, 1), padding=(1, 1))\n",
       "  (conv9_2): Conv2d(16, 16, kernel_size=(3, 3), stride=(1, 1), padding=(1, 1))\n",
       "  (conv10): Conv2d(16, 1, kernel_size=(3, 3), stride=(1, 1), padding=(1, 1))\n",
       ")"
      ]
     },
     "execution_count": 27,
     "metadata": {},
     "output_type": "execute_result"
    }
   ],
   "source": [
    "pre_trained_model.eval()"
   ]
  },
  {
   "cell_type": "code",
   "execution_count": 47,
   "id": "436c42ff-c045-4084-81d7-c08db5d6f002",
   "metadata": {},
   "outputs": [],
   "source": [
    "import cv2"
   ]
  },
  {
   "cell_type": "code",
   "execution_count": 67,
   "id": "c50a22b9-111d-4f23-9ade-a818b5585575",
   "metadata": {},
   "outputs": [
    {
     "data": {
      "image/png": "[encoded data removed]",
      "text/plain": [
       "<Figure size 432x288 with 1 Axes>"
      ]
     },
     "metadata": {
      "needs_background": "light"
     },
     "output_type": "display_data"
    }
   ],
   "source": [
    "img=Image.open(\"dataset/png_dataset/8.png\")\n",
    "mask=Image.open(\"dataset/png_dataset/8_mask.png\")\n",
    "plt.imshow(img)\n",
    "\n",
    "trans=transforms.Compose([transforms.Grayscale(),\n",
    "            transforms.Resize((512, 512))])\n",
    "img=trans(img)\n",
    "img=TF.to_tensor(img)\n",
    "img=img.numpy()\n",
    "image_tensor=torch.Tensor(img)\n",
    "image_tensor=image_tensor.view((-1,1,512,512))"
   ]
  },
  {
   "cell_type": "code",
   "execution_count": 68,
   "id": "64d91fe5-ae67-403d-860a-e3060256ad68",
   "metadata": {},
   "outputs": [],
   "source": [
    "with torch.no_grad():\n",
    "    out=pre_trained_model(image_tensor)\n",
    "out = out.numpy()\n",
    "out = np.resize(out, (512, 512))"
   ]
  },
  {
   "cell_type": "code",
   "execution_count": 70,
   "id": "b34ab85e-7366-4320-9611-39e250258722",
   "metadata": {},
   "outputs": [
    {
     "data": {
      "text/plain": [
       "-1"
      ]
     },
     "execution_count": 70,
     "metadata": {},
     "output_type": "execute_result"
    }
   ],
   "source": [
    "mask1=Image.fromarray(out)\n",
    "mask1=np.mat(mask1)\n",
    "img=np.mat(img)\n",
    "total_img=cv2.add(img,mask1)\n",
    "cv2.imshow(\"Mask_Out\",total_img)\n",
    "cv2.waitKey(0)"
   ]
  },
  {
   "cell_type": "code",
   "execution_count": 43,
   "id": "eaa11b6d-835b-45a7-95ea-c34d1ba6d474",
   "metadata": {},
   "outputs": [
    {
     "data": {
      "text/plain": [
       "<matplotlib.image.AxesImage at 0x2926e00ac70>"
      ]
     },
     "execution_count": 43,
     "metadata": {},
     "output_type": "execute_result"
    },
    {
     "data": {
      "image/png": "[encoded data removed]",
      "text/plain": [
       "<Figure size 432x288 with 1 Axes>"
      ]
     },
     "metadata": {
      "needs_background": "light"
     },
     "output_type": "display_data"
    }
   ],
   "source": [
    "plt.imshow(mask)"
   ]
  },
  {
   "cell_type": "code",
   "execution_count": null,
   "id": "2eeffb5d-195f-48da-afc1-ec7be0069682",
   "metadata": {},
   "outputs": [],
   "source": []
  }
 ],
 "metadata": {
  "kernelspec": {
   "display_name": "Python 3 (ipykernel)",
   "language": "python",
   "name": "python3"
  },
  "language_info": {
   "codemirror_mode": {
    "name": "ipython",
    "version": 3
   },
   "file_extension": ".py",
   "mimetype": "text/x-python",
   "name": "python",
   "nbconvert_exporter": "python",
   "pygments_lexer": "ipython3",
   "version": "3.8.12"
  }
 },
 "nbformat": 4,
 "nbformat_minor": 5
}
